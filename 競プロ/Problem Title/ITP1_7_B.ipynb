{
 "cells": [
  {
   "cell_type": "code",
   "execution_count": 11,
   "id": "20d7db1e",
   "metadata": {},
   "outputs": [
    {
     "name": "stdout",
     "output_type": "stream",
     "text": [
      "5 9\n",
      "1 3 5\n",
      "2 3 4\n",
      "2\n",
      "0 0\n"
     ]
    }
   ],
   "source": [
    "while True:\n",
    "    cnt = 0\n",
    "    N,X = map(int,input().split())\n",
    "    if N == X == 0:\n",
    "        break\n",
    "        \n",
    "    for i in range(1,N):\n",
    "        for j in range(i+1,N+1):\n",
    "            for k in range(j+1,N+1):\n",
    "                if i + j + k == X :\n",
    "                    cnt = cnt + 1\n",
    "    print(cnt)"
   ]
  }
 ],
 "metadata": {
  "kernelspec": {
   "display_name": "Python 3 (ipykernel)",
   "language": "python",
   "name": "python3"
  },
  "language_info": {
   "codemirror_mode": {
    "name": "ipython",
    "version": 3
   },
   "file_extension": ".py",
   "mimetype": "text/x-python",
   "name": "python",
   "nbconvert_exporter": "python",
   "pygments_lexer": "ipython3",
   "version": "3.11.3"
  }
 },
 "nbformat": 4,
 "nbformat_minor": 5
}
