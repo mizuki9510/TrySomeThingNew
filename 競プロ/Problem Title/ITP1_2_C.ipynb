{
 "cells": [
  {
   "cell_type": "code",
   "execution_count": 3,
   "id": "65edee2e",
   "metadata": {},
   "outputs": [
    {
     "name": "stdout",
     "output_type": "stream",
     "text": [
      "3 8 1\n",
      "1 3 8\n"
     ]
    }
   ],
   "source": [
    "a = list(map(int,input().split()))\n",
    "sorted_a = sorted(a)\n",
    "print(sorted_a[0],sorted_a[1],sorted_a[2])"
   ]
  },
  {
   "cell_type": "code",
   "execution_count": null,
   "id": "ac5c20d2",
   "metadata": {},
   "outputs": [],
   "source": []
  }
 ],
 "metadata": {
  "kernelspec": {
   "display_name": "Python 3 (ipykernel)",
   "language": "python",
   "name": "python3"
  },
  "language_info": {
   "codemirror_mode": {
    "name": "ipython",
    "version": 3
   },
   "file_extension": ".py",
   "mimetype": "text/x-python",
   "name": "python",
   "nbconvert_exporter": "python",
   "pygments_lexer": "ipython3",
   "version": "3.11.3"
  }
 },
 "nbformat": 4,
 "nbformat_minor": 5
}
