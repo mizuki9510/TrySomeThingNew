{
 "cells": [
  {
   "cell_type": "code",
   "execution_count": 2,
   "id": "a573d02a",
   "metadata": {},
   "outputs": [
    {
     "name": "stdout",
     "output_type": "stream",
     "text": [
      "5\n",
      "10 1 5 4 17\n",
      "1 17 37\n"
     ]
    }
   ],
   "source": [
    "n = int(input())\n",
    "List = list(map(int,input().split()))\n",
    "print(min(List),max(List),sum(List))"
   ]
  }
 ],
 "metadata": {
  "kernelspec": {
   "display_name": "Python 3 (ipykernel)",
   "language": "python",
   "name": "python3"
  },
  "language_info": {
   "codemirror_mode": {
    "name": "ipython",
    "version": 3
   },
   "file_extension": ".py",
   "mimetype": "text/x-python",
   "name": "python",
   "nbconvert_exporter": "python",
   "pygments_lexer": "ipython3",
   "version": "3.11.3"
  }
 },
 "nbformat": 4,
 "nbformat_minor": 5
}
