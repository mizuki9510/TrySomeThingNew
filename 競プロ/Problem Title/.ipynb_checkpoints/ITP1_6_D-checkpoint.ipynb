{
 "cells": [
  {
   "cell_type": "code",
   "execution_count": 33,
   "id": "25735dc5",
   "metadata": {},
   "outputs": [
    {
     "name": "stdout",
     "output_type": "stream",
     "text": [
      "3 4\n",
      "1 2 0 1\n",
      "0 3 0 1\n",
      "4 1 1 0\n",
      "1\n",
      "2\n",
      "3\n",
      "0\n",
      "5\n",
      "6\n",
      "9\n"
     ]
    }
   ],
   "source": [
    "N,M = map(int,input().split())\n",
    "A = [[0]*M for i in range(N)]\n",
    "B = [0 for i in range(M)]\n",
    "Ans = [0 for i in range(N)]\n",
    "\n",
    "for i in range(N):\n",
    "    A[i] = list(map(int,input().split()))\n",
    "\n",
    "for j in range(M):\n",
    "    B[j]= int(input())\n",
    "\n",
    "for k in range(N):\n",
    "    for l in range(M):\n",
    "        Ans[k] = Ans[k]+A[k][l]*B[l]\n",
    "    print(Ans[k])"
   ]
  },
  {
   "cell_type": "code",
   "execution_count": null,
   "id": "e57bdea5",
   "metadata": {},
   "outputs": [],
   "source": []
  },
  {
   "cell_type": "code",
   "execution_count": null,
   "id": "265cb3f3",
   "metadata": {},
   "outputs": [],
   "source": []
  }
 ],
 "metadata": {
  "kernelspec": {
   "display_name": "Python 3 (ipykernel)",
   "language": "python",
   "name": "python3"
  },
  "language_info": {
   "codemirror_mode": {
    "name": "ipython",
    "version": 3
   },
   "file_extension": ".py",
   "mimetype": "text/x-python",
   "name": "python",
   "nbconvert_exporter": "python",
   "pygments_lexer": "ipython3",
   "version": "3.11.3"
  }
 },
 "nbformat": 4,
 "nbformat_minor": 5
}
