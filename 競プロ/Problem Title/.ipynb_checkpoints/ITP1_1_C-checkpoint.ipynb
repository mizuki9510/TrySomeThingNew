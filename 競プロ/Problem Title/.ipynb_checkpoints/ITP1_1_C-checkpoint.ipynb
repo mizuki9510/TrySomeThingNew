{
 "cells": [
  {
   "cell_type": "code",
   "execution_count": 1,
   "id": "f40d4111",
   "metadata": {},
   "outputs": [
    {
     "name": "stdout",
     "output_type": "stream",
     "text": [
      "3 5\n",
      "15 16\n"
     ]
    }
   ],
   "source": [
    "B,H = map(int,input().split())\n",
    "area = B*H\n",
    "per = B*2 + H*2\n",
    "print(area,per)"
   ]
  },
  {
   "cell_type": "code",
   "execution_count": null,
   "id": "1167f2cf",
   "metadata": {},
   "outputs": [],
   "source": []
  }
 ],
 "metadata": {
  "kernelspec": {
   "display_name": "Python 3 (ipykernel)",
   "language": "python",
   "name": "python3"
  },
  "language_info": {
   "codemirror_mode": {
    "name": "ipython",
    "version": 3
   },
   "file_extension": ".py",
   "mimetype": "text/x-python",
   "name": "python",
   "nbconvert_exporter": "python",
   "pygments_lexer": "ipython3",
   "version": "3.11.3"
  }
 },
 "nbformat": 4,
 "nbformat_minor": 5
}
