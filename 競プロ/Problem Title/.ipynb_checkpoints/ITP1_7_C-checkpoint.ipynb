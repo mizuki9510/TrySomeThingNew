{
 "cells": [
  {
   "cell_type": "code",
   "execution_count": 91,
   "id": "61a4c1e9",
   "metadata": {},
   "outputs": [
    {
     "name": "stdout",
     "output_type": "stream",
     "text": [
      "4 5\n",
      "2 2 2 4 5\n",
      "3 3 0 1 1\n",
      "2 3 4 4 6\n",
      "1 1 3 4 5\n",
      "2 2 2 4 5 15 \n",
      "3 3 0 1 1 8 \n",
      "2 3 4 4 6 19 \n",
      "1 1 3 4 5 14 \n",
      "8 9 9 13 17 56 \n"
     ]
    }
   ],
   "source": [
    "#presentation errorを解消できず・・・\n",
    "\n",
    "R,C = map(int,input().split())\n",
    "Table = [[[] for i in range(C)] for j in range(R)]\n",
    "\n",
    "for i in range(R):\n",
    "    Table[i] = list(map(int,input().split()))\n",
    "    Table[i].append(sum(Table[i]))\n",
    "#     print(Table)\n",
    "\n",
    "for i in range(C+1):\n",
    "    column_sum = 0\n",
    "    for j in range(R):\n",
    "        column_sum = Table[j][i] + column_sum\n",
    "#         print(column_sum)\n",
    "    Table.append(column_sum)\n",
    "# print(Table)\n",
    "\n",
    "for i in range(R):\n",
    "    for j in range(C+1):\n",
    "        print(Table[i][j],end=\" \")\n",
    "    print()\n",
    "for i in range(C-1,C+R+1):\n",
    "    print(Table[i],end=\" \")\n",
    "print()"
   ]
  },
  {
   "cell_type": "markdown",
   "id": "3aa04731",
   "metadata": {},
   "source": [
    "# 1 1 3 4 5\n",
    "2 2 2 4 5\n",
    "3 3 0 1 1\n",
    "2 3 4 4 6"
   ]
  },
  {
   "cell_type": "code",
   "execution_count": null,
   "id": "66a01c73",
   "metadata": {},
   "outputs": [],
   "source": []
  }
 ],
 "metadata": {
  "kernelspec": {
   "display_name": "Python 3 (ipykernel)",
   "language": "python",
   "name": "python3"
  },
  "language_info": {
   "codemirror_mode": {
    "name": "ipython",
    "version": 3
   },
   "file_extension": ".py",
   "mimetype": "text/x-python",
   "name": "python",
   "nbconvert_exporter": "python",
   "pygments_lexer": "ipython3",
   "version": "3.11.3"
  }
 },
 "nbformat": 4,
 "nbformat_minor": 5
}
