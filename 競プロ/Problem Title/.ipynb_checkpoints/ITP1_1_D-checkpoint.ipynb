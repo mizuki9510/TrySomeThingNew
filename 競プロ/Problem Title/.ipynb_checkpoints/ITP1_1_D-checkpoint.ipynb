{
 "cells": [
  {
   "cell_type": "code",
   "execution_count": 6,
   "id": "63c43888",
   "metadata": {},
   "outputs": [
    {
     "name": "stdout",
     "output_type": "stream",
     "text": [
      "46979\n",
      "13:2:59\n"
     ]
    }
   ],
   "source": [
    "Sec_All = int(input())\n",
    "Hour = Sec_All // (60*60)\n",
    "Sec = Sec_All % (60*60)\n",
    "\n",
    "Min = Sec //60\n",
    "Sec = Sec % 60\n",
    "\n",
    "print(f\"{Hour}:{Min}:{Sec}\")"
   ]
  },
  {
   "cell_type": "code",
   "execution_count": null,
   "id": "85bf695f",
   "metadata": {},
   "outputs": [],
   "source": []
  }
 ],
 "metadata": {
  "kernelspec": {
   "display_name": "Python 3 (ipykernel)",
   "language": "python",
   "name": "python3"
  },
  "language_info": {
   "codemirror_mode": {
    "name": "ipython",
    "version": 3
   },
   "file_extension": ".py",
   "mimetype": "text/x-python",
   "name": "python",
   "nbconvert_exporter": "python",
   "pygments_lexer": "ipython3",
   "version": "3.11.3"
  }
 },
 "nbformat": 4,
 "nbformat_minor": 5
}
