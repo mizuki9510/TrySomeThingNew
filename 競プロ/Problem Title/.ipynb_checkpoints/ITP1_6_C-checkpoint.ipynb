{
 "cells": [
  {
   "cell_type": "code",
   "execution_count": 11,
   "id": "871e446a",
   "metadata": {
    "scrolled": true
   },
   "outputs": [
    {
     "name": "stdout",
     "output_type": "stream",
     "text": [
      "1\n",
      "1 1 1 1\n",
      "1 0 0 0 0 0 0 0 0 0 \n",
      "0 0 0 0 0 0 0 0 0 0 \n",
      "0 0 0 0 0 0 0 0 0 0 \n",
      "####################\n",
      "0 0 0 0 0 0 0 0 0 0 \n",
      "0 0 0 0 0 0 0 0 0 0 \n",
      "0 0 0 0 0 0 0 0 0 0 \n",
      "####################\n",
      "0 0 0 0 0 0 0 0 0 0 \n",
      "0 0 0 0 0 0 0 0 0 0 \n",
      "0 0 0 0 0 0 0 0 0 0 \n",
      "####################\n",
      "0 0 0 0 0 0 0 0 0 0 \n",
      "0 0 0 0 0 0 0 0 0 0 \n",
      "0 0 0 0 0 0 0 0 0 0 \n"
     ]
    }
   ],
   "source": [
    "num=[[[0]*11 for i in range(4)] for j in range(5)]\n",
    "n=int(input())\n",
    "for i in range(n):\n",
    "    b,f,r,v=map(int,input().split())\n",
    "    num[b][f][r]+=v\n",
    "for i in range(1,5):\n",
    "    for j in range(1,4):\n",
    "        for k in range(1,11):\n",
    "            print(' ',num[i][j][k],sep='',end='')\n",
    "        print()\n",
    "    if i<4:\n",
    "        for j in range(20):\n",
    "            print('#',end='')\n",
    "        print()\n",
    "\n",
    "# presentation error が解消できず。。。\n",
    "# ２次元配列で行ったが、３次元配列で行えばもっとスマート\n",
    "# n = int(input())\n",
    "# A = [[0 for i in range(10)]for j in range(3)]\n",
    "# B = [[0 for i in range(10)]for j in range(3)]\n",
    "# C = [[0 for i in range(10)]for j in range(3)]\n",
    "# D = [[0 for i in range(10)]for j in range(3)]\n",
    "# # print(A)\n",
    "# for i in range(n):\n",
    "#     b,f,r,v = map(int,input().split())\n",
    "#     if b == 1:\n",
    "#         A[f-1][r-1]=A[f-1][r-1]+v\n",
    "        \n",
    "#     if b == 2:\n",
    "#         B[f-1][r-1]=B[f-1][r-1]+v\n",
    "        \n",
    "#     if b ==3:\n",
    "#         C[f-1][r-1]=C[f-1][r-1]+v\n",
    "    \n",
    "#     if b ==4:\n",
    "#         D[f-1][r-1]=D[f-1][r-1]+v\n",
    "        \n",
    "# for i in range(3):\n",
    "#     for j in range(10):\n",
    "#         print(A[i][j],end=\" \")\n",
    "#     print(\"\")\n",
    "# print(\"#\"*20)\n",
    "\n",
    "# for i in range(3):\n",
    "#     for j in range(10):\n",
    "#         print(B[i][j],end=\" \")\n",
    "#     print(\"\")\n",
    "# print(\"#\"*20)\n",
    "\n",
    "# for i in range(3):\n",
    "#     for j in range(10):\n",
    "#         print(C[i][j],end=\" \")\n",
    "#     print(\"\")\n",
    "# print(\"#\"*20)\n",
    "\n",
    "# for i in range(3):\n",
    "#     for j in range(10):\n",
    "#         print(D[i][j],end=\" \")\n",
    "#     print(\"\")\n"
   ]
  },
  {
   "cell_type": "code",
   "execution_count": null,
   "id": "6d292ee5",
   "metadata": {},
   "outputs": [],
   "source": []
  }
 ],
 "metadata": {
  "kernelspec": {
   "display_name": "Python 3 (ipykernel)",
   "language": "python",
   "name": "python3"
  },
  "language_info": {
   "codemirror_mode": {
    "name": "ipython",
    "version": 3
   },
   "file_extension": ".py",
   "mimetype": "text/x-python",
   "name": "python",
   "nbconvert_exporter": "python",
   "pygments_lexer": "ipython3",
   "version": "3.11.3"
  }
 },
 "nbformat": 4,
 "nbformat_minor": 5
}
