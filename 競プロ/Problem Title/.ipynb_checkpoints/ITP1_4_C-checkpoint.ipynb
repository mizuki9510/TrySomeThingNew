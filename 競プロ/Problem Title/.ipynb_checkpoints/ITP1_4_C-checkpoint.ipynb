{
 "cells": [
  {
   "cell_type": "code",
   "execution_count": null,
   "id": "6dbede8f",
   "metadata": {},
   "outputs": [
    {
     "name": "stdout",
     "output_type": "stream",
     "text": [
      "11 / 2\n",
      "5\n"
     ]
    }
   ],
   "source": [
    "while True:\n",
    "    List = list(input().split())\n",
    "#     print(List)\n",
    "    if (List[1]==\"?\"):\n",
    "        break\n",
    "    elif (List[1]==\"+\"):\n",
    "        print(int(List[0]) + int(List[2]))\n",
    "    \n",
    "    elif (List[1]==\"-\"):\n",
    "        print(int(List[0]) - int(List[2]))\n",
    "\n",
    "    elif (List[1]==\"/\"):\n",
    "        print(int(List[0]) // int(List[2]))\n",
    "\n",
    "    elif (List[1]==\"*\"):\n",
    "        print(int(List[0]) * int(List[2]))\n",
    "\n",
    "    else:\n",
    "        print(\"this case is not predicted\")"
   ]
  },
  {
   "cell_type": "code",
   "execution_count": null,
   "id": "2f4f758d",
   "metadata": {},
   "outputs": [],
   "source": []
  }
 ],
 "metadata": {
  "kernelspec": {
   "display_name": "Python 3 (ipykernel)",
   "language": "python",
   "name": "python3"
  },
  "language_info": {
   "codemirror_mode": {
    "name": "ipython",
    "version": 3
   },
   "file_extension": ".py",
   "mimetype": "text/x-python",
   "name": "python",
   "nbconvert_exporter": "python",
   "pygments_lexer": "ipython3",
   "version": "3.11.3"
  }
 },
 "nbformat": 4,
 "nbformat_minor": 5
}
