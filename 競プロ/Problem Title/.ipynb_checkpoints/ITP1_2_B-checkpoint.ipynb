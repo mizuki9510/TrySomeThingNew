{
 "cells": [
  {
   "cell_type": "code",
   "execution_count": 14,
   "id": "47a95320",
   "metadata": {},
   "outputs": [
    {
     "name": "stdout",
     "output_type": "stream",
     "text": [
      "3 2 4\n",
      "No\n"
     ]
    }
   ],
   "source": [
    "a = list(map(int,input().split()))\n",
    "# b = sorted(a)\n",
    "# if a == b:\n",
    "#     print(\"Yes\")\n",
    "# else:\n",
    "#     print(\"No\")\n",
    "\n",
    "if a[0]<a[1] and a[1]<a[2]:\n",
    "    print(\"Yes\")\n",
    "else:\n",
    "    print(\"No\")"
   ]
  },
  {
   "cell_type": "code",
   "execution_count": null,
   "id": "0c6552e7",
   "metadata": {},
   "outputs": [],
   "source": [
    "\n",
    "58 87 1"
   ]
  },
  {
   "cell_type": "code",
   "execution_count": null,
   "id": "0575a7eb",
   "metadata": {},
   "outputs": [],
   "source": [
    "1 3 8\n",
    "10 10 12"
   ]
  }
 ],
 "metadata": {
  "kernelspec": {
   "display_name": "Python 3 (ipykernel)",
   "language": "python",
   "name": "python3"
  },
  "language_info": {
   "codemirror_mode": {
    "name": "ipython",
    "version": 3
   },
   "file_extension": ".py",
   "mimetype": "text/x-python",
   "name": "python",
   "nbconvert_exporter": "python",
   "pygments_lexer": "ipython3",
   "version": "3.11.3"
  }
 },
 "nbformat": 4,
 "nbformat_minor": 5
}
