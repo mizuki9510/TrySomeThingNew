{
 "cells": [
  {
   "cell_type": "code",
   "execution_count": 6,
   "id": "b409d22b",
   "metadata": {},
   "outputs": [
    {
     "name": "stdout",
     "output_type": "stream",
     "text": [
      "3 4\n",
      "[[[], [], []], [[], [], []], [[], [], []], [[], [], []]]\n"
     ]
    }
   ],
   "source": [
    "R,C = map(int,input().split())\n",
    "Table = [[[] for i in range(R)] for j in range(C)]\n",
    "print(Table)"
   ]
  }
 ],
 "metadata": {
  "kernelspec": {
   "display_name": "Python 3 (ipykernel)",
   "language": "python",
   "name": "python3"
  },
  "language_info": {
   "codemirror_mode": {
    "name": "ipython",
    "version": 3
   },
   "file_extension": ".py",
   "mimetype": "text/x-python",
   "name": "python",
   "nbconvert_exporter": "python",
   "pygments_lexer": "ipython3",
   "version": "3.11.3"
  }
 },
 "nbformat": 4,
 "nbformat_minor": 5
}
