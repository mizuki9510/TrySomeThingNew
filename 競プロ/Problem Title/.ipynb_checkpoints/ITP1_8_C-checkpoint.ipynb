{
 "cells": [
  {
   "cell_type": "code",
   "execution_count": null,
   "id": "c26097ab",
   "metadata": {},
   "outputs": [
    {
     "name": "stdout",
     "output_type": "stream",
     "text": [
      "The University of Aizu team visited Governor Sato at the Fukushima Prefectural Office on May 26 to report the result of their first participation at the ACM-ICPC World Finals (April 2009, Sweden). Coach Yutaka Watanobe and 2 contestants, Mr. Takashi Tayama and Mr. Yuki Hirano, visited the Governor accompanying with Vice President Nicolay Mirenkov, who made an introduction of the team to the Governor. Coach Watanobe explained the atmosphere of the contest and the team's performance using pictures and documents he brought. The team received a compliment from the Governor showing his gratitude to the team for proving the University through the contest competing with other world-renowned universities. The Governor also expressed his high expectation to the team to make further achievement in the future. The team was encouraged by his words and reaffirmed their determination to pass the preliminary round within Japan in July and the Asia Regionals in November to go to the Finals again. Before the visit to the Governor, the team also met Vice Governor Matsumoto and Vice Governor Uchibori, and they commended the team for the achievement.\n",
      "a : 75\n",
      "b : 7\n",
      "c : 32\n",
      "d : 29\n",
      "e : 119\n",
      "f : 20\n",
      "g : 21\n",
      "h : 55\n",
      "i : 71\n",
      "j : 2\n",
      "k : 6\n",
      "l : 15\n",
      "m : 37\n",
      "n : 66\n",
      "o : 79\n",
      "p : 20\n",
      "q : 0\n",
      "r : 67\n",
      "s : 40\n",
      "t : 102\n",
      "u : 25\n",
      "v : 23\n",
      "w : 13\n",
      "x : 3\n",
      "y : 12\n",
      "z : 1\n"
     ]
    }
   ],
   "source": [
    "\n",
    "\n",
    "# 改行に対応できない・・・\n",
    "\n",
    "# import string\n",
    "# alphabets = {}\n",
    "# for i in string.ascii_lowercase:\n",
    "#     alphabets[i] = 0\n",
    "\n",
    "# while True:\n",
    "#     try:\n",
    "#         word = input().split()\n",
    "#     except:\n",
    "#         break\n",
    "\n",
    "#     word = word.lower()\n",
    "#     for i in word:\n",
    "#         if i in alphabets:\n",
    "#             alphabets[i] +=1\n",
    "            \n",
    "#     for key, value in alphabets.items():\n",
    "#         print(key, \":\" ,value)\n",
    "        "
   ]
  },
  {
   "cell_type": "code",
   "execution_count": null,
   "id": "50f2516e",
   "metadata": {},
   "outputs": [],
   "source": []
  },
  {
   "cell_type": "code",
   "execution_count": null,
   "id": "c984f06b",
   "metadata": {},
   "outputs": [],
   "source": []
  }
 ],
 "metadata": {
  "kernelspec": {
   "display_name": "Python 3 (ipykernel)",
   "language": "python",
   "name": "python3"
  },
  "language_info": {
   "codemirror_mode": {
    "name": "ipython",
    "version": 3
   },
   "file_extension": ".py",
   "mimetype": "text/x-python",
   "name": "python",
   "nbconvert_exporter": "python",
   "pygments_lexer": "ipython3",
   "version": "3.11.3"
  }
 },
 "nbformat": 4,
 "nbformat_minor": 5
}
