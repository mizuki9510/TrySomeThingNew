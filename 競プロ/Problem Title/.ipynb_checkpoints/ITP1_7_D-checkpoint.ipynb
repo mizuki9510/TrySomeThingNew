{
 "cells": [
  {
   "cell_type": "code",
   "execution_count": 17,
   "id": "4eb487df",
   "metadata": {},
   "outputs": [
    {
     "name": "stdout",
     "output_type": "stream",
     "text": [
      "3 2 3\n",
      "1 2\n",
      "0 3\n",
      "4 5\n",
      "1 2 1\n",
      "0 3 2\n",
      "A:  [[1, 2], [0, 3], [4, 5]]\n",
      "B:  [[1, 2, 1], [0, 3, 2]]\n"
     ]
    },
    {
     "ename": "IndexError",
     "evalue": "list index out of range",
     "output_type": "error",
     "traceback": [
      "\u001b[0;31m---------------------------------------------------------------------------\u001b[0m",
      "\u001b[0;31mIndexError\u001b[0m                                Traceback (most recent call last)",
      "Cell \u001b[0;32mIn[17], line 16\u001b[0m\n\u001b[1;32m     14\u001b[0m \u001b[38;5;28;01mfor\u001b[39;00m i \u001b[38;5;129;01min\u001b[39;00m \u001b[38;5;28mrange\u001b[39m(n):\n\u001b[1;32m     15\u001b[0m     \u001b[38;5;28;01mfor\u001b[39;00m j \u001b[38;5;129;01min\u001b[39;00m \u001b[38;5;28mrange\u001b[39m(l):\n\u001b[0;32m---> 16\u001b[0m         C[j]\u001b[38;5;241m.\u001b[39mappend(A[i][j]\u001b[38;5;241m*\u001b[39mB[j][i])\n\u001b[1;32m     17\u001b[0m \u001b[38;5;28mprint\u001b[39m(C)\n",
      "\u001b[0;31mIndexError\u001b[0m: list index out of range"
     ]
    }
   ],
   "source": [
    "n,m,l = map(int,input().split())\n",
    "A = [[]for j in range(n)]\n",
    "B = [[]for j in range(m)]\n",
    "C = [[]for k in range(l)]\n",
    "\n",
    "for i in range(n):\n",
    "    A[i] = list(map(int,input().split()))\n",
    "\n",
    "for j in range(m):\n",
    "    B[j] = list(map(int,input().split()))\n",
    "print(\"A: \",A)\n",
    "print(\"B: \",B)\n",
    "\n",
    "for i in range(n):\n",
    "    for j in range(m):\n",
    "        C[j].append(A[i][j]*B[j][i])\n",
    "print(C)"
   ]
  },
  {
   "cell_type": "code",
   "execution_count": null,
   "id": "de28587d",
   "metadata": {},
   "outputs": [],
   "source": [
    "3 2 3\n",
    "1 2\n",
    "0 3\n",
    "4 5\n",
    "1 2 1\n",
    "0 3 2\n",
    "\n",
    "\n",
    "1 8 5\n",
    "0 9 6\n",
    "4 23 14"
   ]
  }
 ],
 "metadata": {
  "kernelspec": {
   "display_name": "Python 3 (ipykernel)",
   "language": "python",
   "name": "python3"
  },
  "language_info": {
   "codemirror_mode": {
    "name": "ipython",
    "version": 3
   },
   "file_extension": ".py",
   "mimetype": "text/x-python",
   "name": "python",
   "nbconvert_exporter": "python",
   "pygments_lexer": "ipython3",
   "version": "3.11.3"
  }
 },
 "nbformat": 4,
 "nbformat_minor": 5
}
