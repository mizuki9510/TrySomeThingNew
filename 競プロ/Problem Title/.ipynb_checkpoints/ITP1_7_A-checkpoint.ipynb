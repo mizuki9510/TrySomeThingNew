{
 "cells": [
  {
   "cell_type": "code",
   "execution_count": 1,
   "id": "daaccbc0",
   "metadata": {},
   "outputs": [
    {
     "name": "stdout",
     "output_type": "stream",
     "text": [
      "-1 -1 -1\n"
     ]
    }
   ],
   "source": [
    "while True:\n",
    "    m,f,r = map(int,input().split())\n",
    "    if m == f == r == -1:\n",
    "        break\n",
    "    if m == -1 or f == -1:\n",
    "        print(\"F\")\n",
    "    elif (m + f)>= 80:\n",
    "        print(\"A\")\n",
    "    elif(m + f) >=65:\n",
    "        print(\"B\")\n",
    "    elif(m + f) >=50 or r >=50:\n",
    "        print(\"C\")\n",
    "    elif(m + f) >=30:\n",
    "        print(\"D\")\n",
    "    else:\n",
    "        print(\"F\")"
   ]
  },
  {
   "cell_type": "code",
   "execution_count": null,
   "id": "d509fa44",
   "metadata": {},
   "outputs": [],
   "source": [
    "print(\"A\")"
   ]
  },
  {
   "cell_type": "markdown",
   "id": "a0af8b06",
   "metadata": {},
   "source": [
    "# "
   ]
  }
 ],
 "metadata": {
  "kernelspec": {
   "display_name": "Python 3 (ipykernel)",
   "language": "python",
   "name": "python3"
  },
  "language_info": {
   "codemirror_mode": {
    "name": "ipython",
    "version": 3
   },
   "file_extension": ".py",
   "mimetype": "text/x-python",
   "name": "python",
   "nbconvert_exporter": "python",
   "pygments_lexer": "ipython3",
   "version": "3.11.3"
  }
 },
 "nbformat": 4,
 "nbformat_minor": 5
}
