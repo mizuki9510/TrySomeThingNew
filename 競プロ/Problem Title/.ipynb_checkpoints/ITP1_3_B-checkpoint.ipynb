{
 "cells": [
  {
   "cell_type": "code",
   "execution_count": 7,
   "id": "1e8ad668",
   "metadata": {},
   "outputs": [
    {
     "name": "stdout",
     "output_type": "stream",
     "text": [
      "1\n",
      "Case 1: 1\n",
      "2\n",
      "Case 2: 2\n",
      "3\n",
      "Case 3: 3\n",
      "4\n",
      "Case 4: 4\n",
      "5\n",
      "Case 5: 5\n",
      "6\n",
      "Case 6: 6\n",
      "0\n"
     ]
    }
   ],
   "source": [
    "i = 1\n",
    "while True:\n",
    "    x = int(input())\n",
    "    if x == 0:\n",
    "        break\n",
    "    else:\n",
    "        print(f\"Case {i}: {x}\")\n",
    "        i = i+1\n",
    "\n",
    "    \n",
    "\n",
    "# for i in range(1,100000):\n",
    "#     x = int(input())\n",
    "#     if x != 0:\n",
    "#        print(f\"Case {i}: {x}\")\n",
    "#     else :\n",
    "#         break"
   ]
  },
  {
   "cell_type": "code",
   "execution_count": null,
   "id": "4fad0b54",
   "metadata": {},
   "outputs": [],
   "source": []
  }
 ],
 "metadata": {
  "kernelspec": {
   "display_name": "Python 3 (ipykernel)",
   "language": "python",
   "name": "python3"
  },
  "language_info": {
   "codemirror_mode": {
    "name": "ipython",
    "version": 3
   },
   "file_extension": ".py",
   "mimetype": "text/x-python",
   "name": "python",
   "nbconvert_exporter": "python",
   "pygments_lexer": "ipython3",
   "version": "3.11.3"
  }
 },
 "nbformat": 4,
 "nbformat_minor": 5
}
