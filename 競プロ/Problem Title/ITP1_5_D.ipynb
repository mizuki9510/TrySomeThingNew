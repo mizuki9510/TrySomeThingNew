{
 "cells": [
  {
   "cell_type": "code",
   "execution_count": 1,
   "id": "990566df",
   "metadata": {},
   "outputs": [],
   "source": [
    "# 問題文の意味がわからない\n",
    "n = int(input())\n",
    "\n",
    "for i in range(1, n + 1):\n",
    "    x = i\n",
    "    if x % 3 == 0:\n",
    "        print(f' {i}', end=\"\")\n",
    "    else:\n",
    "        while x > 0:\n",
    "            if x % 10 == 3:\n",
    "                print(f' {i}', end=\"\")\n",
    "                break\n",
    "            else:\n",
    "                x //= 10\n",
    "\n",
    "print()"
   ]
  },
  {
   "cell_type": "code",
   "execution_count": null,
   "id": "3a3377d7",
   "metadata": {},
   "outputs": [],
   "source": []
  }
 ],
 "metadata": {
  "kernelspec": {
   "display_name": "Python 3 (ipykernel)",
   "language": "python",
   "name": "python3"
  },
  "language_info": {
   "codemirror_mode": {
    "name": "ipython",
    "version": 3
   },
   "file_extension": ".py",
   "mimetype": "text/x-python",
   "name": "python",
   "nbconvert_exporter": "python",
   "pygments_lexer": "ipython3",
   "version": "3.11.3"
  }
 },
 "nbformat": 4,
 "nbformat_minor": 5
}
